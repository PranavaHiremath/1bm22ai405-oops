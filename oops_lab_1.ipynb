{
  "nbformat": 4,
  "nbformat_minor": 0,
  "metadata": {
    "colab": {
      "provenance": [],
      "include_colab_link": true
    },
    "kernelspec": {
      "name": "python3",
      "display_name": "Python 3"
    },
    "language_info": {
      "name": "python"
    }
  },
  "cells": [
    {
      "cell_type": "markdown",
      "metadata": {
        "id": "view-in-github",
        "colab_type": "text"
      },
      "source": [
        "<a href=\"https://colab.research.google.com/github/PranavaHiremath/1bm22ai405-oops/blob/main/oops_lab_1.ipynb\" target=\"_parent\"><img src=\"https://colab.research.google.com/assets/colab-badge.svg\" alt=\"Open In Colab\"/></a>"
      ]
    },
    {
      "cell_type": "code",
      "execution_count": null,
      "metadata": {
        "colab": {
          "base_uri": "https://localhost:8080/"
        },
        "id": "t4__JdkLt016",
        "outputId": "df30b8df-74ce-449d-9e81-e7313d678b9a"
      },
      "outputs": [
        {
          "output_type": "stream",
          "name": "stdout",
          "text": [
            "largest element in the list is : 56\n"
          ]
        }
      ],
      "source": [
        "def max(list1):\n",
        "  max = list1[0]\n",
        "\n",
        "  for x in list1:\n",
        "    if x > max:\n",
        "      max = x\n",
        "\n",
        "  return max\n",
        "\n",
        "\n",
        "list1 = [10, 30, 40, 56, 13]\n",
        "print(\"largest element in the list is :\", max(list1))"
      ]
    },
    {
      "cell_type": "code",
      "source": [
        "import math\n",
        "\n",
        "def hexagon_area(length):\n",
        "  area = (3* math.sqrt(3)* (length** 2)) /2\n",
        "  return area\n",
        "\n",
        "side = 5\n",
        "result = hexagon_area(side)\n",
        "print(f'the area of the regular hexagon with side length {side } is {result}')"
      ],
      "metadata": {
        "colab": {
          "base_uri": "https://localhost:8080/"
        },
        "id": "zbbBgAGl0D9m",
        "outputId": "67402a64-f0f1-4af6-97b4-5f303ebc3ec3"
      },
      "execution_count": null,
      "outputs": [
        {
          "output_type": "stream",
          "name": "stdout",
          "text": [
            "the area of the regular hexagon with side length 5 is 64.9519052838329\n"
          ]
        }
      ]
    },
    {
      "cell_type": "code",
      "source": [
        "import re\n",
        "\n",
        "def is_valid_email(email):\n",
        "  pattern = r'^[\\w\\.-]+@[a-zA-Z0-9-]+\\.[a-zA-Z]{2,}$'\n",
        "\n",
        "  if re.match(pattern, email):\n",
        "        return True\n",
        "  else:\n",
        "        return False\n",
        "\n",
        "email_address = \"email@email.com\"\n",
        "result = is_valid_email(email_address)\n",
        "\n",
        "if result:\n",
        "    print(f\"The email '{email_address}' is valid.\")\n",
        "else:\n",
        "    print(f\"The email '{email_address}' is not valid.\")\n",
        "\n"
      ],
      "metadata": {
        "colab": {
          "base_uri": "https://localhost:8080/"
        },
        "id": "0k3sG_N4x8k6",
        "outputId": "992c4bde-3aed-4c03-d7c2-a4083c330d33"
      },
      "execution_count": null,
      "outputs": [
        {
          "output_type": "stream",
          "name": "stdout",
          "text": [
            "The email 'email@email.com' is valid.\n"
          ]
        }
      ]
    },
    {
      "cell_type": "code",
      "source": [
        "def encrypt(text, shift):\n",
        "    encrypted_text = \"\"\n",
        "    for char in text:\n",
        "\n",
        "        if char.isupper():\n",
        "            encrypted_text += chr((ord(char) + shift - 65) % 26 + 65)\n",
        "\n",
        "        elif char.islower():\n",
        "            encrypted_text += chr((ord(char) + shift - 97) % 26 + 97)\n",
        "        else:\n",
        "\n",
        "            encrypted_text += char\n",
        "    return encrypted_text\n",
        "\n",
        "def decrypt(encrypted_text, shift):\n",
        "\n",
        "    return encrypt(encrypted_text, -shift)\n",
        "\n",
        "text = \"Hello, World!\"\n",
        "shift_value = 5\n",
        "\n",
        "\n",
        "encrypted = encrypt(text, shift_value)\n",
        "print(\"Encrypted:\", encrypted)\n",
        "\n",
        "decrypted = decrypt(encrypted, shift_value)\n",
        "print(\"Decrypted:\", decrypted)\n",
        "\n"
      ],
      "metadata": {
        "colab": {
          "base_uri": "https://localhost:8080/"
        },
        "id": "_75wEMVM7x8q",
        "outputId": "04d23489-9010-4368-ffb9-3d01318edf5b"
      },
      "execution_count": null,
      "outputs": [
        {
          "output_type": "stream",
          "name": "stdout",
          "text": [
            "Encrypted: Mjqqt, Btwqi!\n",
            "Decrypted: Hello, World!\n"
          ]
        }
      ]
    },
    {
      "cell_type": "code",
      "source": [
        "def is_palindrome(s):\n",
        "    return s == s[::-1]\n",
        "\n",
        "def get_palindrome(text):\n",
        "    palindromes = []\n",
        "    words = text.split()\n",
        "\n",
        "    for word in words:\n",
        "        if is_palindrome(word):\n",
        "            palindromes.append(word)\n",
        "\n",
        "    return palindromes\n",
        "\n",
        "\n",
        "input_text = \"madam refers radar to level noon kayak\"\n",
        "result = get_palindrome(input_text)\n",
        "print(\"Palindromes:\", result)\n"
      ],
      "metadata": {
        "colab": {
          "base_uri": "https://localhost:8080/"
        },
        "id": "vhPBTv1V-G_D",
        "outputId": "b05c3f8e-176d-4d6a-8092-a931d2c36742"
      },
      "execution_count": null,
      "outputs": [
        {
          "output_type": "stream",
          "name": "stdout",
          "text": [
            "Palindromes: ['madam', 'radar', 'level', 'noon', 'kayak']\n"
          ]
        }
      ]
    },
    {
      "cell_type": "code",
      "source": [
        "class Student:\n",
        "    pass\n",
        "\n",
        "class Marks:\n",
        "    pass\n",
        "\n",
        "# Creating instances of the classes\n",
        "student_instance = Student()\n",
        "marks_instance = Marks()\n",
        "\n",
        "# Checking if the instances belong to their respective classes\n",
        "is_student_instance = isinstance(student_instance, Student)\n",
        "is_marks_instance = isinstance(marks_instance, Marks)\n",
        "\n",
        "print(f\"Is 'student_instance' an instance of 'Student' class? {is_student_instance}\")\n",
        "print(f\"Is 'marks_instance' an instance of 'Marks' class? {is_marks_instance}\")\n",
        "\n",
        "# Checking if the classes are subclasses of the built-in 'object' class\n",
        "is_student_subclass = issubclass(Student, object)\n",
        "is_marks_subclass = issubclass(Marks, object)\n",
        "\n",
        "print(f\"Is 'Student' class a subclass of 'object' class? {is_student_subclass}\")\n",
        "print(f\"Is 'Marks' class a subclass of 'object' class? {is_marks_subclass}\")\n"
      ],
      "metadata": {
        "id": "fiuhB9bl4j8d",
        "outputId": "b10e3c83-d9ce-468f-df47-7948446f5cf8",
        "colab": {
          "base_uri": "https://localhost:8080/"
        }
      },
      "execution_count": null,
      "outputs": [
        {
          "output_type": "stream",
          "name": "stdout",
          "text": [
            "Is 'student_instance' an instance of 'Student' class? True\n",
            "Is 'marks_instance' an instance of 'Marks' class? True\n",
            "Is 'Student' class a subclass of 'object' class? True\n",
            "Is 'Marks' class a subclass of 'object' class? True\n"
          ]
        }
      ]
    },
    {
      "cell_type": "code",
      "source": [
        "class Song:\n",
        "    def __init__(self, lyrics):\n",
        "        self.lyrics = lyrics\n",
        "\n",
        "    def sing_me_song(self):\n",
        "        for line in self.lyrics:\n",
        "            print(line)\n",
        "\n",
        "happy_bday = Song([\n",
        "    \"May god bless you, \",\n",
        "    \"Have a sunshine on you,\",\n",
        "    \"Happy birthday to you, \"\n",
        "])\n",
        "\n",
        "happy_bday.sing_me_song()\n"
      ],
      "metadata": {
        "colab": {
          "base_uri": "https://localhost:8080/"
        },
        "id": "JwItxb228RGx",
        "outputId": "cf739dc1-315a-48da-bcf3-25de50539b68"
      },
      "execution_count": null,
      "outputs": [
        {
          "output_type": "stream",
          "name": "stdout",
          "text": [
            "May god bless you, \n",
            "Have a sunshine on you,\n",
            "Happy birthday to you, \n"
          ]
        }
      ]
    },
    {
      "cell_type": "code",
      "source": [
        "class Dog:\n",
        "    def __init__(self, name_size, breed='unknown', dob='unknown'):\n",
        "        self.name_size = name_size\n",
        "        self.breed = breed\n",
        "        self.dob = dob\n",
        "\n",
        "    def bark(self):\n",
        "        print(\"Woof!\")\n",
        "\n",
        "    def get_name(self):\n",
        "        return self.name_size\n",
        "\n",
        "    def set_name(self, new_name):\n",
        "        if isinstance(new_name, str) and 2 <= len(new_name) <= 30 and new_name.isalpha():\n",
        "            self.name_size = new_name\n",
        "        else:\n",
        "            print(\"Please enter an alphabetical name between 2 and 30 characters.\")\n",
        "\n",
        "# Example usage:\n",
        "my_dog = Dog('Buddy', 'Labrador', '01/01/2019')\n",
        "print(f\"My dog's name is {my_dog.get_name()}\")  # Output: My dog's name is Buddy\n",
        "my_dog.set_name('Maximus')\n",
        "print(f\"My dog's new name is {my_dog.get_name()}\")  # Output: My dog's new name is Maximus\n",
        "my_dog.bark()  # Output: Woof!\n",
        "\n",
        "\n"
      ],
      "metadata": {
        "colab": {
          "base_uri": "https://localhost:8080/"
        },
        "id": "OHMy56Gk-ZiA",
        "outputId": "10a158cb-4fc0-4680-a507-fcc0c2595b16"
      },
      "execution_count": null,
      "outputs": [
        {
          "output_type": "stream",
          "name": "stdout",
          "text": [
            "My dog's name is Buddy\n",
            "My dog's new name is Maximus\n",
            "Woof!\n"
          ]
        }
      ]
    },
    {
      "cell_type": "code",
      "source": [
        "class Student:\n",
        "    def __init__(self, name='John Doe', age=18, grade='A'):\n",
        "        self.name = name\n",
        "        self.age = age\n",
        "        self.grade = grade\n",
        "\n",
        "# Creating a student object using default values\n",
        "default_student = Student()\n",
        "\n",
        "# Accessing attributes of the default student\n",
        "print(f\"Default student name: {default_student.name}\")  # Output: Default student name: John Doe\n",
        "print(f\"Default student age: {default_student.age}\")    # Output: Default student age: 18\n",
        "print(f\"Default student grade: {default_student.grade}\")  # Output: Default student grade: A\n"
      ],
      "metadata": {
        "colab": {
          "base_uri": "https://localhost:8080/"
        },
        "id": "rs6decyxBTYw",
        "outputId": "1a82d3a3-6b16-4338-8dcd-66b4866f6871"
      },
      "execution_count": null,
      "outputs": [
        {
          "output_type": "stream",
          "name": "stdout",
          "text": [
            "Default student name: John Doe\n",
            "Default student age: 18\n",
            "Default student grade: A\n"
          ]
        }
      ]
    }
  ]
}